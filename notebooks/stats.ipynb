{
 "cells": [
  {
   "cell_type": "code",
   "execution_count": null,
   "id": "e5316713",
   "metadata": {},
   "outputs": [],
   "source": [
    "include(\"../src/NotesData.jl\")\n",
    "using .NotesData"
   ]
  },
  {
   "cell_type": "code",
   "execution_count": null,
   "id": "177d6c62",
   "metadata": {},
   "outputs": [],
   "source": [
    "# ================\n",
    "using DataFrames\n",
    "using Clustering\n",
    "using Plots\n",
    "using StatsPlots\n",
    "using MultivariateStats\n",
    "using Plots.PlotMeasures\n",
    "using StatsBase\n",
    "using Statistics\n",
    "# ================"
   ]
  },
  {
   "cell_type": "code",
   "execution_count": null,
   "id": "c65cad58",
   "metadata": {},
   "outputs": [],
   "source": [
    "df = NotesData.get_notes_dataframe(drop=true);"
   ]
  },
  {
   "cell_type": "code",
   "execution_count": null,
   "id": "7c9de614",
   "metadata": {},
   "outputs": [],
   "source": [
    "firstvarindex = 2;\n",
    "lastvarindex = ncol(df) - 1;\n",
    "df.CONT = round.(mean.(eachrow(df[:, firstvarindex:lastvarindex])), digits=1);\n",
    "maxoutdim = 3;"
   ]
  },
  {
   "cell_type": "code",
   "execution_count": null,
   "id": "76d3441b",
   "metadata": {},
   "outputs": [],
   "source": [
    "xdict = Dict();\n",
    "for i in firstvarindex:lastvarindex\n",
    "    name =  names(df)[i];\n",
    "    src = Int64.(round.(df[:, i], digits=0));\n",
    "    xdict[name] = src;\n",
    "end\n",
    "xdf = DataFrame(xdict);\n",
    "xdict = nothing;\n",
    "for col in names(xdf)\n",
    "    i = findfirst(isequal(col), names(xdf))\n",
    "    xdf[:, i] = NotesData.discretize_notes(xdf[:, i])\n",
    "end"
   ]
  },
  {
   "cell_type": "code",
   "execution_count": null,
   "id": "b1c1a22b",
   "metadata": {},
   "outputs": [],
   "source": [
    "X = permutedims(Matrix{Float64}(xdf[:, 1:ncol(xdf)]));\n",
    "# delete varizble rdf from memory\n",
    "xdf = nothing;\n",
    "# PCA Analysis\n",
    "pca = fit(PCA, X, maxoutdim=maxoutdim);\n",
    "# proj = projection(pca);\n",
    "X_transformed = projection(pca)' * (X .- mean(pca));\n",
    "istart = ncol(df) + 1;\n",
    "df.PC1 = X_transformed[1, :];\n",
    "df.PC1 = round.(df.PC1, digits=3);\n",
    "df.PC2 = X_transformed[2, :];\n",
    "df.PC2 = round.(df.PC2, digits=3);\n",
    "df.PC3 = X_transformed[3, :];\n",
    "df.PC3 = round.(df.PC3, digits=3);\n",
    "iend = ncol(df);\n",
    "# ==================\n",
    "pca = nothing;\n",
    "X = nothing;\n",
    "X_transformed = nothing;\n",
    "# ================\n",
    "X_pca = permutedims(Matrix{Float64}(df[:, istart:iend]));"
   ]
  },
  {
   "cell_type": "code",
   "execution_count": null,
   "id": "a7383717",
   "metadata": {},
   "outputs": [],
   "source": [
    "hard_nclusters = 2:7;\n",
    "clusterings = kmeans.(Ref(X_pca), hard_nclusters);\n",
    "Plots.plot((\n",
    "        Plots.plot(hard_nclusters,\n",
    "            clustering_quality.(Ref(X_pca), clusterings, quality_index=qidx),\n",
    "            marker=:circle,\n",
    "            title=\":$qidx\", label=nothing,\n",
    "        ) for qidx in [:silhouettes, :dunn, :calinski_harabasz, :xie_beni, :davies_bouldin])...,\n",
    "    layout=(2, 3),\n",
    "    xaxis=\"N clusters\", yaxis=\"Quality\",\n",
    "    plot_title=\"\\\"Hard\\\" clustering quality indices\",\n",
    "    size=(1000, 600), left_margin=10pt\n",
    ")"
   ]
  },
  {
   "cell_type": "code",
   "execution_count": null,
   "id": "fd627b81",
   "metadata": {},
   "outputs": [],
   "source": [
    "hard_nclusters = nothing;\n",
    "clusterings = nothing;"
   ]
  },
  {
   "cell_type": "code",
   "execution_count": null,
   "id": "dfff9115",
   "metadata": {},
   "outputs": [],
   "source": [
    "k_pca = 4;"
   ]
  },
  {
   "cell_type": "code",
   "execution_count": null,
   "id": "3a0e3a3e",
   "metadata": {},
   "outputs": [],
   "source": [
    "R_pca = kmeans(X_pca, k_pca; maxiter=200)\n",
    "df.PCA_CLUST = assignments(R_pca);\n",
    "R_pca = nothing;\n",
    "X_pca = nothing;\n",
    "vres_cont = [];\n",
    "for i in 1:k_pca\n",
    "    xdf = filter(row -> row.PCA_CLUST == i, df)\n",
    "    push!(vres_cont, xdf.CONT)\n",
    "end\n",
    "catdf = DataFrame(\n",
    "    INDX=1:k_pca,\n",
    "    VALS_CONT=[mean(vres_cont[i]) for i in 1:k_pca]\n",
    ");\n",
    "catdf = sort(catdf, [:VALS_CONT])\n",
    "INDSX = catdf.INDX;\n",
    "catdf = nothing;\n",
    "function xmap_category(x)\n",
    "    return findfirst(INDSX .== x)\n",
    "end\n",
    "df.PCA_CATEG = map(xmap_category, df.PCA_CLUST);\n",
    "INDSX = nothing;\n",
    "categs = [];\n",
    "vres_exam = [];\n",
    "vres_cont = [];\n",
    "for i in 1:k_pca\n",
    "    push!(categs, \"Cluster $i\")\n",
    "    xdf = filter(row -> row.PCA_CATEG == i, df)\n",
    "    push!(vres_exam, xdf.EXAM)\n",
    "    push!(vres_cont, xdf.CONT)\n",
    "end"
   ]
  },
  {
   "cell_type": "code",
   "execution_count": null,
   "id": "35b6c20d",
   "metadata": {},
   "outputs": [],
   "source": [
    "p1 = boxplot(vres_cont, legend=false, title=\"CONT vs PCA_CATEG\", xticks=(1:k_pca, categs));\n",
    "p2 = boxplot(vres_exam, legend=false, title=\"EXAM vs PCA_CATEG\", xticks=(1:k_pca, categs));\n",
    "plot(p1, p2, layout=(1, 2), size=(1200, 400))"
   ]
  },
  {
   "cell_type": "code",
   "execution_count": null,
   "id": "6f1217d2",
   "metadata": {},
   "outputs": [],
   "source": [
    "vres_cont = nothing;\n",
    "vres_exam = nothing;\n",
    "categs = nothing;"
   ]
  },
  {
   "cell_type": "code",
   "execution_count": null,
   "id": "e4b1d324",
   "metadata": {},
   "outputs": [],
   "source": [
    "p1 = @df df density(:CONT[:PCA_CATEG.==1], label=\"Cluster 1\", legend=:topleft, linewidth=3, title=\"Density of CONT vs PCA_CATEG\", xrange=(0, 20), yrange=(0, 0.35))\n",
    "for k in 2:k_pca\n",
    "    @df df density!(:CONT[:PCA_CATEG.==k], label=\"Cluster $k\", linewidth=3)\n",
    "end\n",
    "@df df density!(:CONT, label=\"All\", linewidth=3, linestyle=:dash)\n",
    "p2 = @df df density(df.EXAM[:PCA_CATEG.==1], legend=:topleft, label=\"Cluster 1\", linewidth=3, title=\"Density of EXAM vs PCA_CATEG\", xrange=(0, 20), yrange=(0, 0.35))\n",
    "for k in 2:k_pca\n",
    "    @df df density!(:EXAM[:PCA_CATEG.==k], label=\"Cluster $k\", linewidth=3)\n",
    "end\n",
    "@df df density!(:EXAM, label=\"All\", linewidth=3, linestyle=:dash)\n",
    "plot(p1, p2, layout=(1, 2), size=(1200, 400))"
   ]
  },
  {
   "cell_type": "code",
   "execution_count": null,
   "id": "8e3030d7",
   "metadata": {},
   "outputs": [],
   "source": [
    "p1 = @df df scatter(:PC1, :PC2, group=:PCA_CATEG, markersize=6, title=\"PC2 vs PC1 by PCA_CATEG\", legend=:topleft, xlabel=\"PC1\", ylabel=\"PC2\",framestyle=:zerolines)\n",
    "p2 = @df df scatter(:PC3, :PC2, group=:PCA_CATEG, markersize=6, title=\"PC2 vs PC3 by PCA_CATEG\", legend=:topleft, xlabel=\"PC3\", ylabel=\"PC2\",framestyle=:zerolines)\n",
    "p3 = @df df scatter(:PC1, :PC3, group=:PCA_CATEG, markersize=6, title=\"PC3 vs PC1 by PCA_CATEG\", legend=:topleft, xlabel=\"PC1\", ylabel=\"PC3\",framestyle=:zerolines)\n",
    "p4 = @df df scatter(:CONT, :EXAM, group=:PCA_CATEG, markersize=5, title=\"EXAM vs CONT by PCA_CATEG\",legend=:topleft, xlabel=\"CONT\", ylabel=\"EXAM\")\n",
    "plot(p1, p2, p3, p4, layout=(2, 2), size=(1400, 800))"
   ]
  }
 ],
 "metadata": {
  "kernelspec": {
   "display_name": "Julia 1.11.5",
   "language": "julia",
   "name": "julia-1.11"
  },
  "language_info": {
   "file_extension": ".jl",
   "mimetype": "application/julia",
   "name": "julia",
   "version": "1.11.5"
  }
 },
 "nbformat": 4,
 "nbformat_minor": 5
}
